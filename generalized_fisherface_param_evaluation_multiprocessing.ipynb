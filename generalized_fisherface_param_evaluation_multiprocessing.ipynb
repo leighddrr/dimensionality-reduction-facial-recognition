{
 "cells": [
  {
   "cell_type": "markdown",
   "metadata": {},
   "source": [
    "# Generalized (Kernel) Fisherface Parameter Evaluation ($\\alpha, \\beta$) (with Multi-processing [Experimenting])"
   ]
  },
  {
   "cell_type": "markdown",
   "metadata": {},
   "source": [
    "## Set up"
   ]
  },
  {
   "cell_type": "code",
   "execution_count": 1,
   "metadata": {},
   "outputs": [],
   "source": [
    "import numpy as np\n",
    "import sklearn.pipeline\n",
    "import matplotlib.pyplot as plt\n",
    "\n",
    "from sklearn.decomposition import PCA"
   ]
  },
  {
   "cell_type": "code",
   "execution_count": 2,
   "metadata": {},
   "outputs": [
    {
     "name": "stdout",
     "output_type": "stream",
     "text": [
      "Total dataset size:\n",
      "n_samples:  1288\n",
      "n_features:  1850\n",
      "n_classes:  7\n"
     ]
    }
   ],
   "source": [
    "# load data\n",
    "import sklearn.datasets\n",
    "from sklearn.model_selection import train_test_split\n",
    "\n",
    "\n",
    "lfw_people = sklearn.datasets.fetch_lfw_people(min_faces_per_person=70, resize=0.4)\n",
    "\n",
    "n_samples, h, w = lfw_people.images.shape\n",
    "target_names = lfw_people.target_names\n",
    "n_classes = target_names.shape[0]\n",
    "\n",
    "X = lfw_people.data\n",
    "n_features = X.shape[1]\n",
    "\n",
    "y = lfw_people.target\n",
    "\n",
    "\n",
    "print(\"Total dataset size:\")\n",
    "print(\"n_samples: \",  n_samples)\n",
    "print(\"n_features: \", n_features)\n",
    "print(\"n_classes: \", n_classes)"
   ]
  },
  {
   "cell_type": "code",
   "execution_count": 3,
   "metadata": {},
   "outputs": [],
   "source": [
    "def create_data_split(X, y, test_size=0.2, random_state=None):\n",
    "    '''creates a train-test split and performs preprocessing'''\n",
    "\n",
    "    # split into a training and testing set\n",
    "    from sklearn.model_selection import train_test_split\n",
    "    X_train, X_test, y_train, y_test = train_test_split(X, y, test_size=test_size, random_state=random_state, stratify=y)\n",
    "\n",
    "    # first, scale the data\n",
    "    scaler = sklearn.preprocessing.StandardScaler().fit(X_train)\n",
    "    X_train_trfm = scaler.transform(X_train)\n",
    "    X_test_trfm = scaler.transform(X_test)\n",
    "\n",
    "    return X_train_trfm, X_test_trfm, y_train, y_test"
   ]
  },
  {
   "cell_type": "code",
   "execution_count": 4,
   "metadata": {},
   "outputs": [],
   "source": [
    "def plot_faces(faces, n_cols=3, figsize=(8,6), h=h, w=w):\n",
    "\n",
    "    dim, n_faces = faces.shape\n",
    "    n_rows = n_faces // n_cols\n",
    "    fig, axes = plt.subplots(n_rows, n_cols, figsize=figsize)\n",
    "\n",
    "    for i, ax in enumerate(axes.flatten()):\n",
    "        ax.imshow(faces[:, i].reshape(h,w))\n",
    "\n",
    "    return fig, ax"
   ]
  },
  {
   "cell_type": "code",
   "execution_count": 5,
   "metadata": {},
   "outputs": [],
   "source": [
    "from generalized_fisher_ld import GeneralizedFisherLD\n",
    "from generalized_kernel_fisher_discriminant import GeneralizedKernelFisherLD"
   ]
  },
  {
   "cell_type": "markdown",
   "metadata": {},
   "source": [
    "## Parameter Evaluation\n",
    "\n",
    "Here, we evaluate the model on different choices for the parameters $(\\alpha, \\beta)$ along the line $\\alpha=\\beta$"
   ]
  },
  {
   "cell_type": "code",
   "execution_count": 6,
   "metadata": {},
   "outputs": [],
   "source": [
    "num_alpha_beta = 21 # number of values for alpha=beta to test. control the resolution of the 'alpha=beta axis'\n",
    "num_trials = 16 # the number of trials (with different data splits) to try on each value of alpha=beta\n",
    "\n",
    "from sklearn.neighbors import KNeighborsClassifier\n",
    "classifier = KNeighborsClassifier # the classifier to use in the model\n",
    "classifier_params = {'n_neighbors': 3} # the parameters to pass into the classifier"
   ]
  },
  {
   "cell_type": "code",
   "execution_count": 7,
   "metadata": {},
   "outputs": [],
   "source": [
    "alpha_betas = np.linspace(0,1, num=num_alpha_beta)"
   ]
  },
  {
   "cell_type": "markdown",
   "metadata": {},
   "source": [
    "### Generalized Fisher LD"
   ]
  },
  {
   "cell_type": "code",
   "execution_count": 8,
   "metadata": {
    "tags": []
   },
   "outputs": [],
   "source": [
    "# Generalized Fisher LD\n",
    "from tqdm.notebook import tqdm, trange\n",
    "\n",
    "train_accs = np.zeros(shape=(num_alpha_beta, num_trials))\n",
    "test_accs = np.zeros(shape=(num_alpha_beta, num_trials))"
   ]
  },
  {
   "cell_type": "code",
   "execution_count": 9,
   "metadata": {
    "tags": []
   },
   "outputs": [],
   "source": [
    "def run_trial_genFLD(alpha_beta):\n",
    "    # create data split\n",
    "    np.random.seed() # need to reseed so that each process generates different splits\n",
    "    X_train_trfm, X_test_trfm, y_train, y_test = create_data_split(X, y, test_size=0.2)\n",
    "\n",
    "    n_samples_train = len(X_train_trfm)\n",
    "    n_classes = len(np.unique(y_train))\n",
    "    \n",
    "    # train model\n",
    "    alpha = beta = alpha_beta\n",
    "    if alpha == beta == 0:\n",
    "        fld_clf = sklearn.pipeline.Pipeline(steps=[('pca', PCA(n_components = n_samples_train - n_classes)),\n",
    "                                        ('gfld', GeneralizedFisherLD(n_components=n_classes - 1, alpha=0, beta=0)),\n",
    "                                        ('clf', classifier(**classifier_params))])\n",
    "\n",
    "        fld_clf.fit(X_train_trfm, y_train)\n",
    "\n",
    "    else:\n",
    "        fld_clf = sklearn.pipeline.Pipeline(steps=[('gfld', GeneralizedFisherLD(n_components=n_classes - 1, \n",
    "                                                                                alpha=alpha, beta=beta)),\n",
    "                                                ('clf', classifier(**classifier_params))])\n",
    "\n",
    "        fld_clf.fit(X_train_trfm, y_train)\n",
    "        \n",
    "    # report back accuracies\n",
    "    train_acc = fld_clf.score(X_train_trfm, y_train)\n",
    "    test_acc = fld_clf.score(X_test_trfm, y_test)\n",
    "    \n",
    "    return train_acc, test_acc"
   ]
  },
  {
   "cell_type": "code",
   "execution_count": 10,
   "metadata": {
    "tags": []
   },
   "outputs": [
    {
     "data": {
      "application/vnd.jupyter.widget-view+json": {
       "model_id": "a1ef3747472d420fb38017008ab886a8",
       "version_major": 2,
       "version_minor": 0
      },
      "text/plain": [
       "alpha_beta:   0%|          | 0/21 [00:00<?, ?it/s]"
      ]
     },
     "metadata": {},
     "output_type": "display_data"
    }
   ],
   "source": [
    "import multiprocessing\n",
    "multiprocessing_pool = multiprocessing.Pool()\n",
    "\n",
    "for i, alpha_beta in enumerate(tqdm(alpha_betas, desc='alpha_beta')):\n",
    "    trial_results = multiprocessing_pool.map(run_trial_genFLD, [alpha_beta]*num_trials)\n",
    "\n",
    "    for trial, (train_acc, test_acc) in enumerate(trial_results):\n",
    "        # log the accuracies\n",
    "        train_accs[i, trial] = train_acc\n",
    "        test_accs[i, trial] = test_acc\n",
    "\n",
    "fisher_results = (np.copy(train_accs), np.copy(test_accs))"
   ]
  },
  {
   "cell_type": "code",
   "execution_count": 11,
   "metadata": {},
   "outputs": [
    {
     "data": {
      "text/plain": [
       "[(0.6436893203883495, 0.32558139534883723),\n",
       " (0.6271844660194175, 0.3372093023255814),\n",
       " (0.6359223300970874, 0.39147286821705424),\n",
       " (0.6378640776699029, 0.35271317829457366),\n",
       " (0.6504854368932039, 0.3875968992248062),\n",
       " (0.6223300970873786, 0.4069767441860465),\n",
       " (0.6262135922330098, 0.3953488372093023),\n",
       " (0.6223300970873786, 0.4108527131782946),\n",
       " (0.654368932038835, 0.36046511627906974),\n",
       " (0.616504854368932, 0.40310077519379844),\n",
       " (0.6262135922330098, 0.38372093023255816),\n",
       " (0.6213592233009708, 0.4186046511627907),\n",
       " (0.6398058252427185, 0.32945736434108525),\n",
       " (0.6223300970873786, 0.4263565891472868),\n",
       " (0.6203883495145631, 0.3953488372093023),\n",
       " (0.625242718446602, 0.4108527131782946)]"
      ]
     },
     "execution_count": 11,
     "metadata": {},
     "output_type": "execute_result"
    }
   ],
   "source": [
    "trial_results"
   ]
  },
  {
   "cell_type": "markdown",
   "metadata": {},
   "source": [
    "### Generalized Kernel Fisher LD"
   ]
  },
  {
   "cell_type": "code",
   "execution_count": 12,
   "metadata": {},
   "outputs": [],
   "source": [
    "def run_trial_genkFLD(alpha_beta):\n",
    "    \n",
    "    # create data split\n",
    "    np.random.seed() # need to reseed so that each process generates different splits\n",
    "    X_train_trfm, X_test_trfm, y_train, y_test = create_data_split(X, y, test_size=0.2)\n",
    "\n",
    "    n_samples_train = len(X_train_trfm)\n",
    "    n_classes = len(np.unique(y_train))\n",
    "    \n",
    "    # train model\n",
    "    alpha = beta = alpha_beta\n",
    "\n",
    "    \n",
    "    fld_clf = sklearn.pipeline.Pipeline(steps=[('gfld', GeneralizedKernelFisherLD(n_components=n_classes - 1, \n",
    "                                                                                alpha=alpha, beta=beta, kernel='rbf')),\n",
    "                                                ('clf', classifier(**classifier_params))])\n",
    "\n",
    "    fld_clf.fit(X_train_trfm, y_train)\n",
    "        \n",
    "    # log the accuracies\n",
    "    train_acc = fld_clf.score(X_train_trfm, y_train)\n",
    "    test_acc = fld_clf.score(X_test_trfm, y_test)\n",
    "    \n",
    "    return train_acc, test_acc"
   ]
  },
  {
   "cell_type": "code",
   "execution_count": 13,
   "metadata": {},
   "outputs": [
    {
     "data": {
      "application/vnd.jupyter.widget-view+json": {
       "model_id": "4492d656925342079687b91c3903e7d2",
       "version_major": 2,
       "version_minor": 0
      },
      "text/plain": [
       "alpha_beta:   0%|          | 0/21 [00:00<?, ?it/s]"
      ]
     },
     "metadata": {},
     "output_type": "display_data"
    }
   ],
   "source": [
    "# Generalized Kernel Fisher LD\n",
    "from tqdm.notebook import tqdm, trange\n",
    "import multiprocessing\n",
    "multiprocessing_pool = multiprocessing.Pool()\n",
    "\n",
    "train_accs = np.zeros(shape=(num_alpha_beta, num_trials))\n",
    "test_accs = np.zeros(shape=(num_alpha_beta, num_trials))\n",
    "\n",
    "for i, alpha_beta in enumerate(tqdm(alpha_betas, desc='alpha_beta')):\n",
    "    trial_results = multiprocessing_pool.map(run_trial_genkFLD, [alpha_beta]*num_trials)\n",
    "\n",
    "    for trial, (train_acc, test_acc) in enumerate(trial_results):\n",
    "        # log the accuracies\n",
    "        train_accs[i, trial] = train_acc\n",
    "        test_accs[i, trial] = test_acc\n",
    "\n",
    "kernel_fisher_results = (np.copy(train_accs), np.copy(test_accs))"
   ]
  },
  {
   "cell_type": "markdown",
   "metadata": {},
   "source": [
    "## Analyze Results"
   ]
  },
  {
   "cell_type": "code",
   "execution_count": 15,
   "metadata": {},
   "outputs": [],
   "source": [
    "def get_avg_std(results):\n",
    "    return np.mean(results, axis=1), np.std(results, axis=1)\n",
    "\n",
    "fisher_acc_avg, fisher_acc_std = get_avg_std(fisher_results[1]) # generalized fisherface test accs\n",
    "kfisher_acc_avg, kfisher_acc_std = get_avg_std(kernel_fisher_results[1]) # generalized kernel fisherface test accs"
   ]
  },
  {
   "cell_type": "code",
   "execution_count": 16,
   "metadata": {},
   "outputs": [
    {
     "data": {
      "text/plain": [
       "False"
      ]
     },
     "execution_count": 16,
     "metadata": {},
     "output_type": "execute_result"
    }
   ],
   "source": [
    "np.all(kernel_fisher_results[1] == fisher_results[1])"
   ]
  },
  {
   "cell_type": "code",
   "execution_count": 17,
   "metadata": {},
   "outputs": [
    {
     "data": {
      "text/plain": [
       "<matplotlib.legend.Legend at 0x7f3875621d50>"
      ]
     },
     "execution_count": 17,
     "metadata": {},
     "output_type": "execute_result"
    },
    {
     "data": {
      "image/png": "[encoded data removed]",
      "text/plain": [
       "<Figure size 800x480 with 1 Axes>"
      ]
     },
     "metadata": {},
     "output_type": "display_data"
    }
   ],
   "source": [
    "n_std = 1 # number of standard deviations for error bands\n",
    "plt.style.use('seaborn')\n",
    "fig, ax = plt.subplots(figsize=(10,6), dpi=80);\n",
    "\n",
    "# generalized fisherface\n",
    "ax.plot(alpha_betas, fisher_acc_avg, label='generalized fisherface'); # line of avg test acc\n",
    "ax.fill_between(alpha_betas, fisher_acc_avg - n_std * fisher_acc_std, fisher_acc_avg + n_std * fisher_acc_std, alpha=0.2) # estimate of error\n",
    "\n",
    "# kernel generalized fisherface\n",
    "ax.plot(alpha_betas, kfisher_acc_avg, label='generalized kernel fisherface'); # line of avg test acc\n",
    "ax.fill_between(alpha_betas, kfisher_acc_avg - n_std * kfisher_acc_std, kfisher_acc_avg + n_std * kfisher_acc_std, alpha=0.2) # estimate of error\n",
    "\n",
    "ax.set_title('Test Accuracy vs. $\\\\alpha = \\\\beta$');\n",
    "ax.set_xlabel('$\\\\alpha=\\\\beta$');\n",
    "ax.set_ylabel('Test Accuracy');\n",
    "\n",
    "ax.legend()"
   ]
  },
  {
   "cell_type": "code",
   "execution_count": 18,
   "metadata": {},
   "outputs": [],
   "source": [
    "data_dict = {'alpha_betas': alpha_betas, 'fisher_results': fisher_results, 'kernel_fisher_results': kernel_fisher_results}\n",
    "np.save('kernel_gen_ff_lfw.npy', data_dict)"
   ]
  }
 ],
 "metadata": {
  "environment": {
   "kernel": "python3",
   "name": "common-cpu.m90",
   "type": "gcloud",
   "uri": "gcr.io/deeplearning-platform-release/base-cpu:m90"
  },
  "interpreter": {
   "hash": "205d50f58f82a2b4d9ed38d5fc136ab30afd6ca8c2e73e92b6068ffbf36380d0"
  },
  "kernelspec": {
   "display_name": "Python 3",
   "language": "python",
   "name": "python3"
  },
  "language_info": {
   "codemirror_mode": {
    "name": "ipython",
    "version": 3
   },
   "file_extension": ".py",
   "mimetype": "text/x-python",
   "name": "python",
   "nbconvert_exporter": "python",
   "pygments_lexer": "ipython3",
   "version": "3.7.12"
  }
 },
 "nbformat": 4,
 "nbformat_minor": 4
}
