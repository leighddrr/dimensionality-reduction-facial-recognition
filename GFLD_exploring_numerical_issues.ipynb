{
 "cells": [
  {
   "cell_type": "markdown",
   "metadata": {},
   "source": [
    "# Generalized Fisher's Linear Discriminant - Exploring Numerical Issues"
   ]
  },
  {
   "cell_type": "markdown",
   "metadata": {},
   "source": [
    "Some weird numerical issues seem to arise  (at least, weird according to the original fisherface paper)"
   ]
  },
  {
   "cell_type": "markdown",
   "metadata": {},
   "source": [
    "## Set up"
   ]
  },
  {
   "cell_type": "code",
   "execution_count": 1,
   "metadata": {},
   "outputs": [],
   "source": [
    "import numpy as np\n",
    "import sklearn.pipeline\n",
    "import matplotlib.pyplot as plt"
   ]
  },
  {
   "cell_type": "code",
   "execution_count": 2,
   "metadata": {},
   "outputs": [
    {
     "name": "stdout",
     "output_type": "stream",
     "text": [
      "Total dataset size:\n",
      "n_samples:  1288\n",
      "n_features:  1850\n",
      "n_classes:  7\n",
      "# of training samples:  966\n"
     ]
    }
   ],
   "source": [
    "# load data\n",
    "import sklearn.datasets\n",
    "from sklearn.model_selection import train_test_split\n",
    "\n",
    "\n",
    "lfw_people = sklearn.datasets.fetch_lfw_people(min_faces_per_person=70, resize=0.4)\n",
    "\n",
    "n_samples, h, w = lfw_people.images.shape\n",
    "target_names = lfw_people.target_names\n",
    "n_classes = target_names.shape[0]\n",
    "\n",
    "X = lfw_people.data\n",
    "n_features = X.shape[1]\n",
    "\n",
    "y = lfw_people.target\n",
    "\n",
    "\n",
    "print(\"Total dataset size:\")\n",
    "print(\"n_samples: \",  n_samples)\n",
    "print(\"n_features: \", n_features)\n",
    "print(\"n_classes: \", n_classes)\n",
    "\n",
    "\n",
    "\n",
    "# split into a training and testing set\n",
    "X_train, X_test, y_train, y_test = train_test_split(X, y, test_size=0.25, random_state=42)\n",
    "\n",
    "# first, scale the data\n",
    "scaler = sklearn.preprocessing.StandardScaler().fit(X_train)\n",
    "X_train_trfm = scaler.transform(X_train)\n",
    "X_test_trfm = scaler.transform(X_test)\n",
    "\n",
    "n_samples_train = len(X_train)\n",
    "print('# of training samples: ', n_samples_train)"
   ]
  },
  {
   "cell_type": "markdown",
   "metadata": {},
   "source": [
    "## Rank of $S_w$ and $S_b$"
   ]
  },
  {
   "cell_type": "markdown",
   "metadata": {},
   "source": [
    "Note that the number of training samples (966) is less than the number of features/dimensionality of images (1850). This is the same as the set up in the fisherface paper.\n",
    "\n",
    "The fisherace paper says: \"In the face recognition problem, one is confronted with the difficulty that the within-class scatter matrix $S_W \\in \\mathbb{R}^{n \\times n}$ is always singular. This stems from the fact that the rank of $S_W$ is at most $N - c$, and, in general, the number of images in the learning set $N$ is much smaller than the number of pixels in each image $n$.\"\n",
    "\n",
    "**Q:** How do they arrive at the claim above? Why is it true?"
   ]
  },
  {
   "cell_type": "code",
   "execution_count": 3,
   "metadata": {},
   "outputs": [
    {
     "data": {
      "text/plain": [
       "Pipeline(steps=[('fld', GeneralizedFisherLD(n_components=6, shrinkage='auto')),\n",
       "                ('rf', RandomForestClassifier())])"
      ]
     },
     "execution_count": 3,
     "metadata": {},
     "output_type": "execute_result"
    }
   ],
   "source": [
    "from generalized_fisher_ld import GeneralizedFisherLD\n",
    "import sklearn.pipeline\n",
    "from sklearn.ensemble import RandomForestClassifier\n",
    "from sklearn.decomposition import PCA\n",
    "\n",
    "fld_clf = sklearn.pipeline.Pipeline(steps=[#('pca', PCA(n_components = n_samples_train - (n_classes - 1))),\n",
    "                                           ('fld', GeneralizedFisherLD(n_components=n_classes - 1, alpha=0, shrinkage='auto')),\n",
    "                                           ('rf', RandomForestClassifier())])\n",
    "fld_clf.fit(X_train_trfm, y_train)"
   ]
  },
  {
   "cell_type": "code",
   "execution_count": 7,
   "metadata": {},
   "outputs": [
    {
     "name": "stdout",
     "output_type": "stream",
     "text": [
      "det(S_w) =  0.0\n",
      "det(S_b) =  -0.0\n",
      "\n",
      "rank(S_w) =  1850\n",
      "rank(S_b) =  1850\n"
     ]
    }
   ],
   "source": [
    "S_w, S_b = fld_clf[0].S_w, fld_clf[0].S_b\n",
    "print('det(S_w) = ', np.linalg.det(S_w))\n",
    "print('det(S_b) = ', np.linalg.det(S_b))\n",
    "\n",
    "print()\n",
    "print('rank(S_w) = ', np.linalg.matrix_rank(S_w))\n",
    "print('rank(S_b) = ', np.linalg.matrix_rank(S_b))"
   ]
  },
  {
   "cell_type": "markdown",
   "metadata": {},
   "source": [
    "Both $S_w$ and $S_b$ have \"0\" determinant (as far numpy's precision), yet they have full rank..."
   ]
  },
  {
   "cell_type": "markdown",
   "metadata": {},
   "source": [
    "Furthermore, all 1850 eigenvalues are non-zero."
   ]
  },
  {
   "cell_type": "code",
   "execution_count": 11,
   "metadata": {},
   "outputs": [],
   "source": [
    "import scipy\n",
    "eig_values, eig_vecs = scipy.linalg.eigh(S_b, S_w)"
   ]
  },
  {
   "cell_type": "code",
   "execution_count": 22,
   "metadata": {},
   "outputs": [
    {
     "data": {
      "text/plain": [
       "array([-0.84546796, -0.84354609, -0.84307492, ...,  3.39043189,\n",
       "        4.71632741,  5.60518439])"
      ]
     },
     "execution_count": 22,
     "metadata": {},
     "output_type": "execute_result"
    }
   ],
   "source": [
    "eig_values"
   ]
  },
  {
   "cell_type": "code",
   "execution_count": 17,
   "metadata": {},
   "outputs": [
    {
     "data": {
      "text/plain": [
       "1850"
      ]
     },
     "execution_count": 17,
     "metadata": {},
     "output_type": "execute_result"
    }
   ],
   "source": [
    "np.sum(eig_values != 0)"
   ]
  },
  {
   "cell_type": "code",
   "execution_count": 21,
   "metadata": {},
   "outputs": [
    {
     "data": {
      "text/plain": [
       "array([[ 1.00000000e+00, -7.60538008e-15,  3.07681669e-15, ...,\n",
       "        -2.69749501e-16, -3.66135074e-16,  1.62820231e-15],\n",
       "       [-4.40412409e-15,  1.00000000e+00,  1.01318693e-15, ...,\n",
       "        -6.06251974e-16,  7.61435186e-16, -5.13369729e-16],\n",
       "       [ 2.77103779e-15,  5.73434529e-16,  1.00000000e+00, ...,\n",
       "        -5.30066442e-16, -1.16226473e-16, -3.65050871e-16],\n",
       "       ...,\n",
       "       [ 2.88560408e-16, -1.52568930e-15, -2.43566018e-16, ...,\n",
       "         1.00000000e+00, -1.69309011e-15, -3.26128013e-16],\n",
       "       [-1.04170145e-15,  1.43548368e-15, -1.84227633e-15, ...,\n",
       "        -1.42941214e-15,  1.00000000e+00, -9.64506253e-16],\n",
       "       [ 1.40686074e-15, -1.97758476e-15, -1.74860126e-15, ...,\n",
       "        -1.15879528e-15, -1.65839564e-15,  1.00000000e+00]])"
      ]
     },
     "execution_count": 21,
     "metadata": {},
     "output_type": "execute_result"
    }
   ],
   "source": [
    "# V^T S_w V = Identity...\n",
    "eig_vecs.T @ S_w @ eig_vecs"
   ]
  },
  {
   "cell_type": "markdown",
   "metadata": {},
   "source": [
    "**Q:** How to reconcile/interpret discrepency in maximum possible components? It seems we can use up to $n$ components just as in PCA/eigenface..."
   ]
  },
  {
   "cell_type": "markdown",
   "metadata": {},
   "source": [
    "Finally, for the generalized eigenvector problem given in the original fisherface paper, $S_b w_i = \\lambda_i S_w w_i$, as above, we were able to directly compute the eigenvectors. But for the reverse problem, $S_w w_i = \\lambda_i S_b w_i$, we do get an regarding the rank of the matrices... this is what we would have expected from the original problem."
   ]
  },
  {
   "cell_type": "code",
   "execution_count": 23,
   "metadata": {},
   "outputs": [
    {
     "ename": "LinAlgError",
     "evalue": "The leading minor of order 2 of B is not positive definite. The factorization of B could not be completed and no eigenvalues or eigenvectors were computed.",
     "output_type": "error",
     "traceback": [
      "\u001b[1;31m---------------------------------------------------------------------------\u001b[0m",
      "\u001b[1;31mLinAlgError\u001b[0m                               Traceback (most recent call last)",
      "Input \u001b[1;32mIn [23]\u001b[0m, in \u001b[0;36m<module>\u001b[1;34m\u001b[0m\n\u001b[1;32m----> 1\u001b[0m eig_values, eig_vecs \u001b[39m=\u001b[39m scipy\u001b[39m.\u001b[39;49mlinalg\u001b[39m.\u001b[39;49meigh(S_w, S_b)\n",
      "File \u001b[1;32m~\\miniconda3\\envs\\ml\\lib\\site-packages\\scipy\\linalg\\decomp.py:578\u001b[0m, in \u001b[0;36meigh\u001b[1;34m(a, b, lower, eigvals_only, overwrite_a, overwrite_b, turbo, eigvals, type, check_finite, subset_by_index, subset_by_value, driver)\u001b[0m\n\u001b[0;32m    <a href='file:///~/miniconda3/envs/ml/lib/site-packages/scipy/linalg/decomp.py?line=574'>575</a>\u001b[0m     \u001b[39mraise\u001b[39;00m LinAlgError(\u001b[39m'\u001b[39m\u001b[39mIllegal value in argument \u001b[39m\u001b[39m{}\u001b[39;00m\u001b[39m of internal \u001b[39m\u001b[39m{}\u001b[39;00m\u001b[39m'\u001b[39m\n\u001b[0;32m    <a href='file:///~/miniconda3/envs/ml/lib/site-packages/scipy/linalg/decomp.py?line=575'>576</a>\u001b[0m                       \u001b[39m'\u001b[39m\u001b[39m'\u001b[39m\u001b[39m.\u001b[39mformat(\u001b[39m-\u001b[39minfo, drv\u001b[39m.\u001b[39mtypecode \u001b[39m+\u001b[39m pfx \u001b[39m+\u001b[39m driver))\n\u001b[0;32m    <a href='file:///~/miniconda3/envs/ml/lib/site-packages/scipy/linalg/decomp.py?line=576'>577</a>\u001b[0m \u001b[39melif\u001b[39;00m info \u001b[39m>\u001b[39m n:\n\u001b[1;32m--> <a href='file:///~/miniconda3/envs/ml/lib/site-packages/scipy/linalg/decomp.py?line=577'>578</a>\u001b[0m     \u001b[39mraise\u001b[39;00m LinAlgError(\u001b[39m'\u001b[39m\u001b[39mThe leading minor of order \u001b[39m\u001b[39m{}\u001b[39;00m\u001b[39m of B is not \u001b[39m\u001b[39m'\u001b[39m\n\u001b[0;32m    <a href='file:///~/miniconda3/envs/ml/lib/site-packages/scipy/linalg/decomp.py?line=578'>579</a>\u001b[0m                       \u001b[39m'\u001b[39m\u001b[39mpositive definite. The factorization of B \u001b[39m\u001b[39m'\u001b[39m\n\u001b[0;32m    <a href='file:///~/miniconda3/envs/ml/lib/site-packages/scipy/linalg/decomp.py?line=579'>580</a>\u001b[0m                       \u001b[39m'\u001b[39m\u001b[39mcould not be completed and no eigenvalues \u001b[39m\u001b[39m'\u001b[39m\n\u001b[0;32m    <a href='file:///~/miniconda3/envs/ml/lib/site-packages/scipy/linalg/decomp.py?line=580'>581</a>\u001b[0m                       \u001b[39m'\u001b[39m\u001b[39mor eigenvectors were computed.\u001b[39m\u001b[39m'\u001b[39m\u001b[39m.\u001b[39mformat(info\u001b[39m-\u001b[39mn))\n\u001b[0;32m    <a href='file:///~/miniconda3/envs/ml/lib/site-packages/scipy/linalg/decomp.py?line=581'>582</a>\u001b[0m \u001b[39melse\u001b[39;00m:\n\u001b[0;32m    <a href='file:///~/miniconda3/envs/ml/lib/site-packages/scipy/linalg/decomp.py?line=582'>583</a>\u001b[0m     drv_err \u001b[39m=\u001b[39m {\u001b[39m'\u001b[39m\u001b[39mev\u001b[39m\u001b[39m'\u001b[39m: \u001b[39m'\u001b[39m\u001b[39mThe algorithm failed to converge; \u001b[39m\u001b[39m{}\u001b[39;00m\u001b[39m \u001b[39m\u001b[39m'\u001b[39m\n\u001b[0;32m    <a href='file:///~/miniconda3/envs/ml/lib/site-packages/scipy/linalg/decomp.py?line=583'>584</a>\u001b[0m                      \u001b[39m'\u001b[39m\u001b[39moff-diagonal elements of an intermediate \u001b[39m\u001b[39m'\u001b[39m\n\u001b[0;32m    <a href='file:///~/miniconda3/envs/ml/lib/site-packages/scipy/linalg/decomp.py?line=584'>585</a>\u001b[0m                      \u001b[39m'\u001b[39m\u001b[39mtridiagonal form did not converge to zero.\u001b[39m\u001b[39m'\u001b[39m,\n\u001b[1;32m   (...)\u001b[0m\n\u001b[0;32m    <a href='file:///~/miniconda3/envs/ml/lib/site-packages/scipy/linalg/decomp.py?line=589'>590</a>\u001b[0m                \u001b[39m'\u001b[39m\u001b[39mevr\u001b[39m\u001b[39m'\u001b[39m: \u001b[39m'\u001b[39m\u001b[39mInternal Error.\u001b[39m\u001b[39m'\u001b[39m\n\u001b[0;32m    <a href='file:///~/miniconda3/envs/ml/lib/site-packages/scipy/linalg/decomp.py?line=590'>591</a>\u001b[0m                }\n",
      "\u001b[1;31mLinAlgError\u001b[0m: The leading minor of order 2 of B is not positive definite. The factorization of B could not be completed and no eigenvalues or eigenvectors were computed."
     ]
    }
   ],
   "source": [
    "eig_values, eig_vecs = scipy.linalg.eigh(S_w, S_b)"
   ]
  },
  {
   "cell_type": "markdown",
   "metadata": {},
   "source": [
    "## Try for sklearn's implementation of LDA as a sanity check..."
   ]
  },
  {
   "cell_type": "code",
   "execution_count": 27,
   "metadata": {},
   "outputs": [
    {
     "data": {
      "text/plain": [
       "Pipeline(steps=[('pca', PCA(n_components=960)),\n",
       "                ('fld',\n",
       "                 LinearDiscriminantAnalysis(n_components=6, solver='eigen')),\n",
       "                ('rf', RandomForestClassifier())])"
      ]
     },
     "execution_count": 27,
     "metadata": {},
     "output_type": "execute_result"
    }
   ],
   "source": [
    "from sklearn.discriminant_analysis import LinearDiscriminantAnalysis\n",
    "import sklearn.pipeline\n",
    "from sklearn.ensemble import RandomForestClassifier\n",
    "from sklearn.decomposition import PCA\n",
    "\n",
    "fld_clf = sklearn.pipeline.Pipeline(steps=[('pca', PCA(n_components = n_samples_train - (n_classes - 1))),\n",
    "                                           ('fld', LinearDiscriminantAnalysis(n_components=n_classes - 1, solver='eigen')),# shrinkage='auto')),\n",
    "                                           ('rf', RandomForestClassifier())])\n",
    "fld_clf.fit(X_train_trfm, y_train)"
   ]
  },
  {
   "cell_type": "code",
   "execution_count": 28,
   "metadata": {},
   "outputs": [
    {
     "data": {
      "text/plain": [
       "0.43788819875776397"
      ]
     },
     "execution_count": 28,
     "metadata": {},
     "output_type": "execute_result"
    }
   ],
   "source": [
    "fld_clf.score(X_test_trfm, y_test)"
   ]
  },
  {
   "cell_type": "markdown",
   "metadata": {},
   "source": [
    "LinAlg Error does not occur when `shrinkage='auto'` (which is what I used in my implementation), but does occur otherwise and is fixed by performing PCA first! This is as expected..."
   ]
  },
  {
   "cell_type": "markdown",
   "metadata": {},
   "source": [
    "## Exploration for `shrinkage != 'auto'`\n",
    "more what's expected"
   ]
  },
  {
   "cell_type": "code",
   "execution_count": 30,
   "metadata": {},
   "outputs": [
    {
     "data": {
      "text/plain": [
       "Pipeline(steps=[('pca', PCA(n_components=960)),\n",
       "                ('fld', GeneralizedFisherLD(n_components=6)),\n",
       "                ('rf', RandomForestClassifier())])"
      ]
     },
     "execution_count": 30,
     "metadata": {},
     "output_type": "execute_result"
    }
   ],
   "source": [
    "from generalized_fisher_ld import GeneralizedFisherLD\n",
    "import sklearn.pipeline\n",
    "from sklearn.ensemble import RandomForestClassifier\n",
    "from sklearn.decomposition import PCA\n",
    "\n",
    "fld_clf = sklearn.pipeline.Pipeline(steps=[('pca', PCA(n_components = n_samples_train - (n_classes - 1))),\n",
    "                                           ('fld', GeneralizedFisherLD(n_components=n_classes - 1, alpha=0, shrinkage=None)),\n",
    "                                           ('rf', RandomForestClassifier())])\n",
    "fld_clf.fit(X_train_trfm, y_train)"
   ]
  },
  {
   "cell_type": "code",
   "execution_count": 31,
   "metadata": {},
   "outputs": [],
   "source": [
    "fisherfaces = (fld_clf[1].transformation_matrix_ @ fld_clf[0].components_).T"
   ]
  },
  {
   "cell_type": "code",
   "execution_count": 37,
   "metadata": {},
   "outputs": [
    {
     "data": {
      "text/plain": [
       "0.0"
      ]
     },
     "execution_count": 37,
     "metadata": {},
     "output_type": "execute_result"
    }
   ],
   "source": [
    "np.linalg.det(fisherfaces @ fld_clf[1].S_w @ fisherfaces.T)"
   ]
  },
  {
   "cell_type": "code",
   "execution_count": 38,
   "metadata": {},
   "outputs": [
    {
     "data": {
      "text/plain": [
       "4.2756468489018215e+209"
      ]
     },
     "execution_count": 38,
     "metadata": {},
     "output_type": "execute_result"
    }
   ],
   "source": [
    "np.linalg.det(fisherfaces @ fld_clf[1].S_b @ fisherfaces.T)"
   ]
  },
  {
   "cell_type": "code",
   "execution_count": 39,
   "metadata": {},
   "outputs": [
    {
     "data": {
      "text/plain": [
       "959"
      ]
     },
     "execution_count": 39,
     "metadata": {},
     "output_type": "execute_result"
    }
   ],
   "source": [
    "np.linalg.matrix_rank(fld_clf[1].S_w)"
   ]
  },
  {
   "cell_type": "code",
   "execution_count": 40,
   "metadata": {},
   "outputs": [
    {
     "data": {
      "text/plain": [
       "6"
      ]
     },
     "execution_count": 40,
     "metadata": {},
     "output_type": "execute_result"
    }
   ],
   "source": [
    "np.linalg.matrix_rank(fld_clf[1].S_b)"
   ]
  },
  {
   "cell_type": "markdown",
   "metadata": {},
   "source": [
    "TODO:\n",
    "- test for $\\alpha = \\beta \\neq 0$\n",
    "- test # of non-zero eigenvalues (i.e.: max number of components)\n",
    "- etc."
   ]
  },
  {
   "cell_type": "code",
   "execution_count": 43,
   "metadata": {},
   "outputs": [
    {
     "data": {
      "text/plain": [
       "Pipeline(steps=[('fld',\n",
       "                 GeneralizedFisherLD(alpha=0.5, beta=0.5, n_components=6)),\n",
       "                ('rf', RandomForestClassifier())])"
      ]
     },
     "execution_count": 43,
     "metadata": {},
     "output_type": "execute_result"
    }
   ],
   "source": [
    "from generalized_fisher_ld import GeneralizedFisherLD\n",
    "import sklearn.pipeline\n",
    "from sklearn.ensemble import RandomForestClassifier\n",
    "from sklearn.decomposition import PCA\n",
    "\n",
    "fld_clf = sklearn.pipeline.Pipeline(steps=[#('pca', PCA(n_components = n_samples_train - (n_classes - 1))),\n",
    "                                           ('fld', GeneralizedFisherLD(n_components=n_classes - 1, alpha=0.5, beta=0.5, shrinkage=None)),\n",
    "                                           ('rf', RandomForestClassifier())])\n",
    "fld_clf.fit(X_train_trfm, y_train)"
   ]
  },
  {
   "cell_type": "code",
   "execution_count": 44,
   "metadata": {},
   "outputs": [],
   "source": [
    "fisherfaces = fld_clf[0].transformation_matrix_"
   ]
  },
  {
   "cell_type": "code",
   "execution_count": 53,
   "metadata": {},
   "outputs": [
    {
     "data": {
      "text/plain": [
       "1.000000000000056"
      ]
     },
     "execution_count": 53,
     "metadata": {},
     "output_type": "execute_result"
    }
   ],
   "source": [
    "np.linalg.det(fisherfaces @ fld_clf[0].B_matrix_ @ fisherfaces.T)"
   ]
  },
  {
   "cell_type": "code",
   "execution_count": 54,
   "metadata": {},
   "outputs": [
    {
     "data": {
      "text/plain": [
       "0.0"
      ]
     },
     "execution_count": 54,
     "metadata": {},
     "output_type": "execute_result"
    }
   ],
   "source": [
    "np.linalg.det(fisherfaces @ fld_clf[0].A_matrix_ @ fisherfaces.T)"
   ]
  },
  {
   "cell_type": "code",
   "execution_count": 56,
   "metadata": {},
   "outputs": [
    {
     "name": "stdout",
     "output_type": "stream",
     "text": [
      "rank(S_b) =  6\n",
      "rank(S_w) =  959\n",
      "\n",
      "rank(A) =  965\n",
      "rank(B) =  1850\n"
     ]
    }
   ],
   "source": [
    "print('rank(S_b) = ', np.linalg.matrix_rank(fld_clf[0].S_b))\n",
    "print('rank(S_w) = ', np.linalg.matrix_rank(fld_clf[0].S_w))\n",
    "\n",
    "print()\n",
    "print('rank(A) = ', np.linalg.matrix_rank(fld_clf[0].A_matrix_))\n",
    "print('rank(B) = ', np.linalg.matrix_rank(fld_clf[0].B_matrix_))"
   ]
  },
  {
   "cell_type": "code",
   "execution_count": 57,
   "metadata": {},
   "outputs": [],
   "source": [
    "eig_vals, eig_vecs = scipy.linalg.eigh(fld_clf[0].A_matrix_, fld_clf[0].B_matrix_)"
   ]
  },
  {
   "cell_type": "code",
   "execution_count": 72,
   "metadata": {},
   "outputs": [
    {
     "name": "stdout",
     "output_type": "stream",
     "text": [
      "362\n"
     ]
    }
   ],
   "source": [
    "print(np.sum(eig_vals[::-1] > 0.1)) # note that we get more components!!"
   ]
  },
  {
   "cell_type": "markdown",
   "metadata": {},
   "source": [
    "**Q:** How many components do we get? $\\min(rank(A), rank(B))$?"
   ]
  }
 ],
 "metadata": {
  "interpreter": {
   "hash": "205d50f58f82a2b4d9ed38d5fc136ab30afd6ca8c2e73e92b6068ffbf36380d0"
  },
  "kernelspec": {
   "display_name": "Python 3.8.12 ('ml')",
   "language": "python",
   "name": "python3"
  },
  "language_info": {
   "codemirror_mode": {
    "name": "ipython",
    "version": 3
   },
   "file_extension": ".py",
   "mimetype": "text/x-python",
   "name": "python",
   "nbconvert_exporter": "python",
   "pygments_lexer": "ipython3",
   "version": "3.8.12"
  },
  "orig_nbformat": 4
 },
 "nbformat": 4,
 "nbformat_minor": 2
}
