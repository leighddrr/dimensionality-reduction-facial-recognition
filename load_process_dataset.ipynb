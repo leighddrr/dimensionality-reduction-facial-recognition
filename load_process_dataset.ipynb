{
 "cells": [
  {
   "cell_type": "markdown",
   "metadata": {},
   "source": [
    "# Load and Process the Tufts Dataset"
   ]
  },
  {
   "cell_type": "code",
   "execution_count": 1,
   "metadata": {},
   "outputs": [],
   "source": [
    "import cv2\n",
    "from tqdm import tqdm\n",
    "from pathlib import Path"
   ]
  },
  {
   "cell_type": "code",
   "execution_count": 9,
   "metadata": {},
   "outputs": [],
   "source": [
    "def crop(img, x_ratio, y_ratio):\n",
    "    y, x = img.shape\n",
    "\n",
    "    y_start = y//2 - int(y_ratio*y/2)\n",
    "    y_end = y//2 +  int(y_ratio*y/2)\n",
    "    x_start = x//2 - int(x_ratio*x/2)\n",
    "    x_end = x//2 + int(x_ratio*x/2)\n",
    "\n",
    "    return img[y_start:y_end, x_start:x_end]"
   ]
  },
  {
   "cell_type": "code",
   "execution_count": 10,
   "metadata": {},
   "outputs": [],
   "source": [
    "dataset_path = '../MTHE-493-Dataset/face_dataset'\n",
    "resize_scale = 50\n",
    "crop_ratio_x, crop_ratio_y = 0.5, 0.75"
   ]
  },
  {
   "cell_type": "code",
   "execution_count": 11,
   "metadata": {},
   "outputs": [
    {
     "name": "stderr",
     "output_type": "stream",
     "text": [
      "100%|██████████| 112/112 [01:37<00:00,  1.15it/s]\n"
     ]
    }
   ],
   "source": [
    "X = []\n",
    "Y = []\n",
    "exps = []\n",
    "\n",
    "image_class_dirs = [dir for dir in Path(dataset_path).iterdir() if dir.is_dir()]\n",
    "\n",
    "for image_class_dir in tqdm(image_class_dirs):\n",
    "    image_files = [image_file for image_file in image_class_dir.iterdir() if image_file.is_file()]\n",
    "    for image_file in image_files:\n",
    "        img = cv2.imread(str(image_file), cv2.IMREAD_GRAYSCALE)\n",
    "        img = crop(img, crop_ratio_x, crop_ratio_y)\n",
    "\n",
    "        h, w = img.shape\n",
    "        resize_shape = (h//resize_scale, w//resize_scale)\n",
    "        img = cv2.resize(img, resize_shape, interpolation=cv2.INTER_AREA)\n",
    "\n",
    "        y = int(image_class_dir.name)\n",
    "\n",
    "        exp = int(str(image_file).split('_')[-1][0])\n",
    "\n",
    "        X.append(img)\n",
    "        Y.append(y)\n",
    "        exps.append(exp)"
   ]
  },
  {
   "cell_type": "code",
   "execution_count": 15,
   "metadata": {},
   "outputs": [
    {
     "data": {
      "text/plain": [
       "(560, 46, 46)"
      ]
     },
     "execution_count": 15,
     "metadata": {},
     "output_type": "execute_result"
    }
   ],
   "source": [
    "import numpy as np\n",
    "np.array(X).shape"
   ]
  },
  {
   "cell_type": "code",
   "execution_count": 39,
   "metadata": {},
   "outputs": [],
   "source": [
    "X = np.array(X)\n",
    "Y = np.array(Y)\n",
    "exps = np.array(exps)\n",
    "\n",
    "data_dict = {'X': X, 'Y': Y, 'expressions': exps}\n",
    "np.save('data/tufts_face_dataset_small.npy', data_dict)"
   ]
  }
 ],
 "metadata": {
  "interpreter": {
   "hash": "205d50f58f82a2b4d9ed38d5fc136ab30afd6ca8c2e73e92b6068ffbf36380d0"
  },
  "kernelspec": {
   "display_name": "Python 3.8.12 ('ml')",
   "language": "python",
   "name": "python3"
  },
  "language_info": {
   "codemirror_mode": {
    "name": "ipython",
    "version": 3
   },
   "file_extension": ".py",
   "mimetype": "text/x-python",
   "name": "python",
   "nbconvert_exporter": "python",
   "pygments_lexer": "ipython3",
   "version": "3.8.12"
  },
  "orig_nbformat": 4
 },
 "nbformat": 4,
 "nbformat_minor": 2
}
